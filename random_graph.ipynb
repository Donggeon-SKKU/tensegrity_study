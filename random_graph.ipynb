{
 "cells": [
  {
   "cell_type": "markdown",
   "metadata": {},
   "source": [
    "#### 랜덤한 텐세그리티 형태의 그래프를 생성\n",
    "1. networkx 라이브러리 기초공부\n",
    "1. 랜덤하게 그래프를 생성\n",
    "1. 평형조건 판단\n",
    "1. 안정성 판단"
   ]
  },
  {
   "cell_type": "markdown",
   "metadata": {},
   "source": [
    "##### 1. networkx library"
   ]
  },
  {
   "cell_type": "code",
   "execution_count": 1,
   "metadata": {},
   "outputs": [
    {
     "name": "stdout",
     "output_type": "stream",
     "text": []
    }
   ],
   "source": [
    "import networkx as nx\n",
    "nx.__version__"
   ]
  },
  {
   "cell_type": "markdown",
   "metadata": {},
   "source": [
    "##### Create Graph: create, adding, nodes, edges\n",
    "\n",
    "four types of graphs are supported:  \n",
    "G = nx.Graph() # undirected graph  \n",
    "DG = nx.DiGraph() # directed graphs  \n",
    "MG = nx.MultiGraph() # can be many edges between nodes MDG  "
   ]
  },
  {
   "cell_type": "code",
   "execution_count": 2,
   "metadata": {},
   "outputs": [
    {
     "name": "stdout",
     "output_type": "stream",
     "text": []
    },
    {
     "name": "stdout",
     "output_type": "stream",
     "text": []
    }
   ],
   "source": [
    "G = nx.Graph()\n",
    "G.add_node(0)\n",
    "G.add_nodes_from([4,1,2]) # 리스트에 있는 노드를 한번에 추가\n",
    "\n",
    "G.add_edge(0, 1)\n",
    "G.add_edges_from([(0,2), (1,2)])\n",
    "\n",
    "print(G.number_of_nodes(), G.number_of_edges())\n",
    "nx.draw(G,with_labels=True)"
   ]
  },
  {
   "cell_type": "markdown",
   "metadata": {},
   "source": [
    "##### Creation via add_path, add_cycle, add_star"
   ]
  },
  {
   "cell_type": "code",
   "execution_count": 3,
   "metadata": {},
   "outputs": [
    {
     "name": "stdout",
     "output_type": "stream",
     "text": []
    }
   ],
   "source": [
    "G2  = nx.Graph()\n",
    "nx.add_cycle(G2,[0,1,2,3,4,5])\n",
    "nx.add_path(G2,[0,10,11,12],weight=3)\n",
    "nx.add_star(G2,[6,7,8,9,21,22],weight=7)\n",
    "nx.add_star(G2,[31,32,33,34,35],weight=4) # weight를 높이면 더 오밀조밀하게 모임\n",
    "\n",
    "nx.draw(G2,with_labels=True)"
   ]
  },
  {
   "cell_type": "markdown",
   "metadata": {},
   "source": [
    "##### Directed graph example"
   ]
  },
  {
   "cell_type": "code",
   "execution_count": 4,
   "metadata": {},
   "outputs": [
    {
     "name": "stdout",
     "output_type": "stream",
     "text": []
    },
    {
     "name": "stdout",
     "output_type": "stream",
     "text": []
    }
   ],
   "source": [
    "DG = nx.DiGraph()\n",
    "DG.add_weighted_edges_from([(1,2,0.5),(3,1,0.75)])\n",
    "# DG.out_degree(1, weight='weight')\n",
    "DG.degree(1, weight='weight')\n",
    "\n",
    "print(list(DG.successors(1)),list(DG.neighbors(1)))\n",
    "nx.draw(DG)"
   ]
  },
  {
   "cell_type": "markdown",
   "metadata": {},
   "source": [
    "##### Number of nodes, edges"
   ]
  },
  {
   "cell_type": "code",
   "execution_count": 5,
   "metadata": {},
   "outputs": [
    {
     "name": "stdout",
     "output_type": "stream",
     "text": []
    }
   ],
   "source": [
    "G = nx.Graph()\n",
    "G.add_nodes_from([0,1])\n",
    "G.add_edge(0,1)\n",
    "\n",
    "# len(G) = number_of_nodes\n",
    "# nuumber_of_edge는 간선 개수를 반환, size도 동일하게 간선 개수를 반환하지만 가중치가 있는 경우에 간선*가중치 합을 반환\n",
    "len(G),G.number_of_nodes(),G.number_of_edges(),G.size()"
   ]
  },
  {
   "cell_type": "markdown",
   "metadata": {},
   "source": [
    "##### Plotting\n",
    "It is important that plotsate made in common matplotlib canvas,s o all familiar matplolib commads can be combined with networkx plots. that is advantage over igraph."
   ]
  },
  {
   "cell_type": "code",
   "execution_count": 6,
   "metadata": {},
   "outputs": [],
   "source": [
    "import matplotlib.pyplot as plt"
   ]
  },
  {
   "cell_type": "markdown",
   "metadata": {},
   "source": [
    "##### Simplest plot - nx.draw(G)"
   ]
  },
  {
   "cell_type": "code",
   "execution_count": null,
   "metadata": {},
   "outputs": [
    {
     "name": "stdout",
     "output_type": "stream",
     "text": []
    },
    {
     "name": "stdout",
     "output_type": "stream",
     "text": []
    }
   ],
   "source": [
    "G = nx.tetrahedral_graph()\n",
    "pos = nx.spring_layout(G)\n",
    "nx.draw(G,with_labels=True)\n",
    "print(pos)"
   ]
  },
  {
   "cell_type": "code",
   "execution_count": null,
   "metadata": {},
   "outputs": [
    {
     "name": "stdout",
     "output_type": "stream",
     "text": []
    }
   ],
   "source": [
    "G = nx.Graph()\n",
    "G.add_node(0, pos=(1,0))\n",
    "G.add_node(1, pos=(0,1))\n",
    "G.add_node(2, pos=(-1,0))\n",
    "G.add_node(3, pos=(0,-1))\n",
    "\n",
    "G.add_edges_from([(0,1),(0,2),(0,3),(1,2),(1,3),(2,3)])\n",
    "pos = nx.get_node_attributes(G, 'pos')\n",
    "nx.draw(G,pos,with_labels=True)"
   ]
  },
  {
   "cell_type": "code",
   "execution_count": null,
   "metadata": {},
   "outputs": [
    {
     "name": "stdout",
     "output_type": "stream",
     "text": []
    }
   ],
   "source": [
    "\n",
    "# nx.draw(G1,G2,G3,G4,G5)\n",
    "# plt.title('dodecahedral_graph')\n",
    "# plt.show()\n",
    "import matplotlib.pyplot as plt\n",
    "\n",
    "G1 = nx.dodecahedral_graph()\n",
    "G2 = nx.truncated_cube_graph()\n",
    "G3 = nx.icosahedral_graph()\n",
    "G4 = nx.dodecahedral_graph()\n",
    "G5 = nx.tetrahedral_graph()\n",
    "\n",
    "# 그래프 리스트\n",
    "graphs = [G1, G2, G3, G4, G5]\n",
    "titles = [\n",
    "    'dodecahedral_graph', \n",
    "    'truncated_cube_graph', \n",
    "    'icosahedral_graph', \n",
    "    'dodecahedral_graph', \n",
    "    'tetrahedral_graph'\n",
    "]\n",
    "\n",
    "fig, axes = plt.subplots(2, 3, figsize=(12, 8))\n",
    "axes = axes.flatten()\n",
    "\n",
    "for i, G in enumerate(graphs):\n",
    "    nx.draw(G, ax=axes[i])\n",
    "    axes[i].set_title(titles[i])\n",
    "\n",
    "# 남는 빈 서브플롯 제거\n",
    "for j in range(len(graphs), len(axes)):\n",
    "    fig.delaxes(axes[j])\n",
    "\n",
    "plt.tight_layout()\n",
    "plt.show()"
   ]
  },
  {
   "cell_type": "markdown",
   "metadata": {},
   "source": [
    "##### Create from Adjacency matrix"
   ]
  },
  {
   "cell_type": "code",
   "execution_count": null,
   "metadata": {},
   "outputs": [
    {
     "name": "stdout",
     "output_type": "stream",
     "text": []
    },
    {
     "name": "stdout",
     "output_type": "stream",
     "text": []
    }
   ],
   "source": [
    "import numpy as np\n",
    "A = np.random.randint(0,2,size=(4,4)) # 0이상 2미만 (0~1)사이의 정수를 사이즈에 맞게 행렬로 생성\n",
    "print(A)\n",
    "G = nx.DiGraph(A)\n",
    "\n",
    "nx.draw(G,with_labels=True)"
   ]
  },
  {
   "cell_type": "markdown",
   "metadata": {},
   "source": [
    "##### Return adjacency matrix"
   ]
  },
  {
   "cell_type": "code",
   "execution_count": null,
   "metadata": {},
   "outputs": [
    {
     "name": "stdout",
     "output_type": "stream",
     "text": []
    },
    {
     "name": "stdout",
     "output_type": "stream",
     "text": []
    }
   ],
   "source": [
    "print(nx.to_numpy_array(G))\n",
    "nx.to_numpy_matrix(G)\n"
   ]
  },
  {
   "cell_type": "markdown",
   "metadata": {},
   "source": [
    "##### Peterson graph and subplots demo"
   ]
  },
  {
   "cell_type": "code",
   "execution_count": null,
   "metadata": {},
   "outputs": [
    {
     "name": "stdout",
     "output_type": "stream",
     "text": []
    }
   ],
   "source": [
    "G =  nx.petersen_graph() # 피터센 그래프를 생성 - 10개의 노드와 15개의 간선으로 구성되고 대칭구조를 가짐ㅠ\n",
    "fig = plt.figure(figsize=(10,5))\n",
    "plt.subplot(121)\n",
    "\n",
    "# shell레이아웃으로 그린다, nlist에는 노드를 두 개의 쉘로 그룹화 하여 배치하는데 \n",
    "# 첫번째 노드에는 5~9, 두번째노드는 0~4\n",
    "nx.draw_shell(G, nlist=[range(5,10),range(5)],with_labels=True,font_weight='bold')\n",
    "plt.title('Subplot 1')\n",
    "plt.subplot(122)\n",
    "\n",
    "# 동일한 피터센 그래프를 기본 레이아웃(보통 spring layout)으로 그린다.\n",
    "nx.draw(G,with_labels=True,font_weight='bold')\n",
    "plt.title('Subplot 2')\n",
    "plt.show()"
   ]
  },
  {
   "cell_type": "markdown",
   "metadata": {},
   "source": [
    "##### Plot with edge weights nx.draw_networkx_edge_labels"
   ]
  },
  {
   "cell_type": "code",
   "execution_count": null,
   "metadata": {},
   "outputs": [
    {
     "name": "stdout",
     "output_type": "stream",
     "text": []
    }
   ],
   "source": [
    "import networkx as nx\n",
    "import matplotlib.pyplot as plt\n",
    "\n",
    "G = nx.Graph()\n",
    "i = 1\n",
    "G.add_node(i,pos=(i,i))\n",
    "G.add_node(2,pos=(2,2))\n",
    "G.add_node(3,pos=(1,0))\n",
    "G.add_edge(1,2,weight=0.5)\n",
    "G.add_edge(1,3,weight=0.98)\n",
    "pos = nx.get_node_attributes(G,'pos')\n",
    "nx.draw(G,pos)\n",
    "labels = nx.get_edge_attributes(G,'weight')\n",
    "nx.draw_networkx_edge_labels(G,pos,edge_labels=labels)\n",
    "plt.show() "
   ]
  },
  {
   "cell_type": "code",
   "execution_count": null,
   "metadata": {},
   "outputs": [
    {
     "name": "stdout",
     "output_type": "stream",
     "text": []
    }
   ],
   "source": [
    "pos = nx.planar_layout(G) # 그래프의 구조를 고려하여 평면상에 노드들이 겹치지 않고 배치되도록 자동으로 계산된 좌표\n",
    "nx.draw_networkx(G,pos)\n",
    "labels = nx.get_edge_attributes(G,'weight')\n",
    "nx.draw_networkx_edge_labels(G,pos,edge_labels=labels)\n",
    "plt.show()\n"
   ]
  },
  {
   "cell_type": "markdown",
   "metadata": {},
   "source": [
    "##### Use subplots from matplotlib"
   ]
  },
  {
   "cell_type": "code",
   "execution_count": null,
   "metadata": {},
   "outputs": [
    {
     "name": "stdout",
     "output_type": "stream",
     "text": []
    }
   ],
   "source": [
    "import numpy as np \n",
    "\n",
    "G = nx.Graph()\n",
    "# G.add_node(1)\n",
    "G.add_nodes_from([0, 1,2])\n",
    "#G.add_edge(0, 1)\n",
    "G.add_edges_from([(0, 1), (1, 2), (0, 2)])\n",
    "fig = plt.figure(figsize= (12,3))\n",
    "plt.subplot(131)\n",
    "nx.draw(G,   node_color= [0,0,0 ])\n",
    "m1 = nx.algorithms.community.modularity(G, [{0,1,2}])\n",
    "str1 = 'Partion: \\n all nodes in one group \\n'+ 'Modularity ' + str(np.round(m1,3) )\n",
    "plt.title(str1)\n",
    "\n",
    "plt.subplot(132)\n",
    "nx.draw(G,   node_color= [0,1,2 ])\n",
    "m1 = nx.algorithms.community.modularity(G, [{0},{1},{2}])\n",
    "str1 = 'Partion: \\n all nodes in different groups \\n'+ 'Modularity ' + str(np.round(m1,3) )\n",
    "plt.title(str1)\n",
    "\n",
    "plt.subplot(133)\n",
    "nx.draw(G,   node_color= [0,0,2 ])\n",
    "m1 = nx.algorithms.community.modularity(G, [{0,1},{2}])\n",
    "str1 = 'Partion: \\n  Group1 - [0,1], Group2 - [2] \\n'+ 'Modularity ' + str(np.round(m1,3) )\n",
    "plt.title(str1)\n",
    "\n",
    "plt.show()"
   ]
  },
  {
   "cell_type": "markdown",
   "metadata": {},
   "source": [
    "##### Community detection (clustering)"
   ]
  },
  {
   "cell_type": "code",
   "execution_count": null,
   "metadata": {},
   "outputs": [
    {
     "name": "stdout",
     "output_type": "stream",
     "text": []
    },
    {
     "name": "stdout",
     "output_type": "stream",
     "text": []
    }
   ],
   "source": [
    "G = nx.barbell_graph(4,0)\n",
    "c = nx.algorithms.community.modularity(G,[{0,1,2,3},{4,5,6,7}])\n",
    "nx.draw(G,with_labels=True)\n",
    "print(c)"
   ]
  },
  {
   "cell_type": "code",
   "execution_count": 59,
   "metadata": {},
   "outputs": [
    {
     "name": "stdout",
     "output_type": "stream",
     "text": []
    }
   ],
   "source": [
    "G = nx.karate_club_graph()\n",
    "nx.draw(G)"
   ]
  },
  {
   "cell_type": "markdown",
   "metadata": {},
   "source": [
    "###### 랜덤한 그래프 생성하기\n",
    "1. 그래프 생성\n",
    "1. 노드 좌표얻기\n",
    "1. N 행렬 구성하기\n",
    "1. adjacency matrix 획득\n",
    "1. adjacency matrix -> Connectivity matrix"
   ]
  },
  {
   "cell_type": "code",
   "execution_count": 13,
   "metadata": {},
   "outputs": [
    {
     "name": "stdout",
     "output_type": "stream",
     "text": []
    }
   ],
   "source": [
    "import networkx as nx\n",
    "import numpy as np\n",
    "import matplotlib.pyplot as plt\n",
    "\n",
    "G = nx.dodecahedral_graph()\n",
    "pos  = nx.kamada_kawai_layout(G)\n",
    "\n",
    "nx.draw(G,pos,with_labels=True)\n",
    "plt.show()"
   ]
  },
  {
   "cell_type": "code",
   "execution_count": 17,
   "metadata": {},
   "outputs": [
    {
     "name": "stdout",
     "output_type": "stream",
     "text": []
    },
    {
     "name": "stdout",
     "output_type": "stream",
     "text": []
    }
   ],
   "source": [
    "for node, coords in pos.items():\n",
    "    print(f\"Node {node}: {coords}\")"
   ]
  },
  {
   "cell_type": "code",
   "execution_count": 28,
   "metadata": {},
   "outputs": [
    {
     "name": "stdout",
     "output_type": "stream",
     "text": []
    }
   ],
   "source": [
    "# create N matrix\n",
    "num_nodes = len(pos)\n",
    "N = np.zeros((2,num_nodes))\n",
    "for i, (node, coords) in enumerate(pos.items()):\n",
    "    N[0, i] = coords[0]\n",
    "    N[1, i] = coords[1]\n",
    "\n",
    "print(N.shape)\n",
    "print(N)\n"
   ]
  },
  {
   "cell_type": "markdown",
   "metadata": {},
   "source": [
    "아래 방법에서는 C'*C = A라고 했을때 A를 알고있더라도 분해를 통해 정확한 C를 도출할 수 없음"
   ]
  },
  {
   "cell_type": "code",
   "execution_count": 38,
   "metadata": {},
   "outputs": [
    {
     "name": "stdout",
     "output_type": "stream",
     "text": []
    },
    {
     "name": "stdout",
     "output_type": "stream",
     "text": []
    }
   ],
   "source": [
    "# create C matrix\n",
    "adj_matrix = nx.to_numpy_matrix(G)\n",
    "print(adj_matrix.shape)\n",
    "\n",
    "# make C'*C matrix\n",
    "adj_matrix = - adj_matrix\n",
    "for i,node in  enumerate(G.nodes()):\n",
    "    # print(i,\"node\",node,'has degree',G.degree(node))\n",
    "    adj_matrix[i,i] = G.degree(node)\n",
    "\n",
    "adj_matrix\n"
   ]
  },
  {
   "cell_type": "code",
   "execution_count": 74,
   "metadata": {},
   "outputs": [
    {
     "name": "stdout",
     "output_type": "stream",
     "text": []
    },
    {
     "name": "stdout",
     "output_type": "stream",
     "text": []
    }
   ],
   "source": [
    "# Create C mat\n",
    "num_member = len(G.edges())\n",
    "C = np.zeros((num_member,num_nodes))\n",
    "print(C.shape)\n",
    "for i,(u,v) in enumerate(G.edges()):\n",
    "    # print(i,f'Edge from {u} to {v}')\n",
    "    C[i,u] = 1\n",
    "    C[i,v] = -1\n",
    "\n",
    "C\n",
    "    "
   ]
  },
  {
   "cell_type": "code",
   "execution_count": 140,
   "metadata": {},
   "outputs": [
    {
     "name": "stdout",
     "output_type": "stream",
     "text": []
    }
   ],
   "source": [
    "# creatE M mat\n",
    "M = N@C.T\n",
    "M"
   ]
  },
  {
   "cell_type": "code",
   "execution_count": 98,
   "metadata": {},
   "outputs": [],
   "source": [
    "import sympy as sp\n",
    "def get_Sigma(i):\n",
    "    num_component = num_member\n",
    "    num_lambda = i\n",
    "    num_gamma = num_component - num_lambda\n",
    "\n",
    "    # lambda_vars = {}\n",
    "    component = []\n",
    "    count_lambda = 0\n",
    "    count_gamma = 0\n",
    "\n",
    "    for n in range(1,num_lambda+1):\n",
    "        # lambda_name = f'l{n}'\n",
    "        lambda_symbol = sp.symbols(f'l{n}')\n",
    "        component.append(lambda_symbol)\n",
    "        count_lambda += 1\n",
    "\n",
    "    for m in range(1,num_gamma+1):\n",
    "        # gamma_name = f'g{m}'\n",
    "        gamma_symbol = sp.symbols(f'g{m}')\n",
    "        component.append(gamma_symbol)\n",
    "        count_gamma +=1\n",
    "\n",
    "\n",
    "    Sigma = np.diag(component)\n",
    "    return Sigma, count_lambda, count_gamma\n"
   ]
  },
  {
   "cell_type": "code",
   "execution_count": 99,
   "metadata": {},
   "outputs": [
    {
     "name": "stdout",
     "output_type": "stream",
     "text": []
    }
   ],
   "source": [
    "Sigma,count_lambda,count_gamma = get_Sigma(3)\n",
    "print(Sigma.shape)\n",
    "print(count_lambda,count_gamma)\n",
    "print(Sigma)"
   ]
  },
  {
   "attachments": {
    "image.png": {
     "image/png": "[encoded data removed]"
    }
   },
   "cell_type": "markdown",
   "metadata": {},
   "source": [
    "M*Sigma*C = 0을 풀어야 함  \n",
    "행렬을 크로네커 prod를 써서 벡터화  \n",
    "Ax = b의 형태로 변환한후 lingprog를 이용해서 해결  \n",
    "![image.png](attachment:image.png)"
   ]
  },
  {
   "cell_type": "code",
   "execution_count": 85,
   "metadata": {},
   "outputs": [
    {
     "name": "stdout",
     "output_type": "stream",
     "text": []
    }
   ],
   "source": [
    "print(M.shape)\n",
    "print(Sigma.shape)\n",
    "print(C.shape)"
   ]
  },
  {
   "cell_type": "code",
   "execution_count": 121,
   "metadata": {},
   "outputs": [
    {
     "name": "stdout",
     "output_type": "stream",
     "text": []
    }
   ],
   "source": [
    "# LP feasible\n",
    "import numpy as np\n",
    "from scipy.optimize import linprog\n",
    "\n",
    "# M*S*C = 0 -> kron(C',M)*vec(S) = 0\n",
    "A_eq = np.kron(C.T,M)\n",
    "print(f\"A_eq shape: {A_eq.shape}\")  # 디버깅\n",
    "\n",
    "vec_Sigma = Sigma.reshape(-1,order='F')\n",
    "# print(vec_Sigma)\n",
    "\n",
    "# for idx,value in enumerate(vec_Sigma):\n",
    "#     if value == 0:\n",
    "#         A_new = np.delete(A_eq,idx,axis=1)\n",
    "zero_indices = [i for i, value in enumerate(vec_Sigma) if value == 0]\n",
    "A_new = np.delete(A_eq, zero_indices, axis=1)\n",
    "\n",
    "print(f\"A_new shape: {A_new.shape}\")\n",
    "\n",
    "f = np.zeros(A_new.shape[1])\n",
    "\n",
    "\n",
    "b_eq = np.zeros(A_new.shape[0])\n",
    "\n",
    "# bound setting\n",
    "lb_lambda = -np.inf * np.ones(count_lambda)\n",
    "lb_gamma = np.full(count_gamma, 1e-6) # linprog에서는 이상만 먹혀서\n",
    "lb = np.concatenate([lb_lambda,lb_gamma])\n",
    "\n",
    "ub_lambda = np.inf * np.ones(count_lambda)\n",
    "ub_gamma = np.inf * np.ones(count_gamma)\n",
    "ub = np.concatenate([ub_lambda,ub_gamma])\n",
    "\n",
    "bounds = list(zip(lb,ub))\n",
    "\n",
    "# linprog\n",
    "# eq = A_eq*x == b_eq\n",
    "result = linprog(f,A_ub=None,b_ub=None, A_eq=A_new,b_eq=b_eq,bounds=bounds)\n",
    "\n",
    "if result.success:\n",
    "    print(\"feasible solution found\")\n",
    "    print(result.x)\n",
    "\n",
    "else:\n",
    "    print('Infeasible')\n",
    "\n",
    "\n",
    "\n",
    "\n"
   ]
  },
  {
   "cell_type": "code",
   "execution_count": 102,
   "metadata": {},
   "outputs": [
    {
     "name": "stdout",
     "output_type": "stream",
     "text": []
    }
   ],
   "source": [
    "a = np.array([1,2,3])\n",
    "b = np.array([4,5,6])\n",
    "\n",
    "c = np.concatenate([a,b])\n",
    "print(c)"
   ]
  },
  {
   "cell_type": "code",
   "execution_count": 111,
   "metadata": {},
   "outputs": [
    {
     "name": "stdout",
     "output_type": "stream",
     "text": []
    },
    {
     "name": "stdout",
     "output_type": "stream",
     "text": []
    }
   ],
   "source": [
    "a = np.array([[1,2,3],[4,5,6],[7,8,9]])\n",
    "print(a)\n",
    "# a.reshape(-1,1)\n",
    "a.flatten(order='F')\n",
    "a.reshape(-1,order='F')"
   ]
  },
  {
   "cell_type": "code",
   "execution_count": 112,
   "metadata": {},
   "outputs": [
    {
     "name": "stdout",
     "output_type": "stream",
     "text": []
    }
   ],
   "source": [
    "A_new = np.delete(a,1,)"
   ]
  },
  {
   "cell_type": "markdown",
   "metadata": {},
   "source": [
    "##### 노드의 순서를 바꿔서 N C M을 생성하면 해결되지않나? -> 가능한 모든 조합을 고려해보는거야\n",
    "\n",
    "아니지 노드는 고정이고 C만 조정해야지\n",
    "와 근데 C에서 row를 바꾸는 방법의 가지수는 30!이고 거기에 시그마 계산까지 수행하면 미쳐 날뛰는데?"
   ]
  },
  {
   "cell_type": "code",
   "execution_count": 142,
   "metadata": {},
   "outputs": [
    {
     "name": "stdout",
     "output_type": "stream",
     "text": []
    }
   ],
   "source": [
    "print(N)\n",
    "print(C)\n",
    "print(M)"
   ]
  },
  {
   "cell_type": "markdown",
   "metadata": {},
   "source": [
    "그렇다면 람다와 감마의 순서를 바꿔도 가능한지 보자"
   ]
  },
  {
   "cell_type": "code",
   "execution_count": 5,
   "metadata": {},
   "outputs": [
    {
     "name": "stdout",
     "output_type": "stream",
     "text": []
    }
   ],
   "source": [
    "# Make Sigma_new\n",
    "import sympy as sp\n",
    "\n",
    "def generate_Sigma_combination(elements,num_members,current=[],result=[]):\n",
    "    if len(current) == num_members:\n",
    "        result.append(current)\n",
    "        return\n",
    "    \n",
    "    for element in elements:\n",
    "        generate_Sigma_combination(elements,num_members,current + [element], result)\n",
    "\n",
    "num_member = 10\n",
    "l,g = sp.symbols('l g')\n",
    "elements = [l,g]\n",
    "result = []\n",
    "generate_Sigma_combination(elements, num_member,result=result)\n",
    "print(len(result))"
   ]
  },
  {
   "cell_type": "code",
   "execution_count": 143,
   "metadata": {},
   "outputs": [
    {
     "name": "stdout",
     "output_type": "stream",
     "text": []
    }
   ],
   "source": [
    "def generate_combinations(elements, length, current=[]):\n",
    "    if len(current) == length:\n",
    "        print(\"\".join(current))\n",
    "        return\n",
    "    \n",
    "    for element in elements:\n",
    "        generate_combinations(elements, length, current + [element])\n",
    "\n",
    "# 사용 예시\n",
    "elements = ['A', 'B']\n",
    "length = 5\n",
    "generate_combinations(elements, length)"
   ]
  },
  {
   "cell_type": "code",
   "execution_count": null,
   "metadata": {},
   "outputs": [],
   "source": []
  }
 ],
 "metadata": {
  "kernelspec": {
   "display_name": "base",
   "language": "python",
   "name": "python3"
  },
  "language_info": {
   "codemirror_mode": {
    "name": "ipython",
    "version": 3
   },
   "file_extension": ".py",
   "mimetype": "text/x-python",
   "name": "python",
   "nbconvert_exporter": "python",
   "pygments_lexer": "ipython3",
   "version": "3.9.13"
  }
 },
 "nbformat": 4,
 "nbformat_minor": 2
}
